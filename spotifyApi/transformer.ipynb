{
 "cells": [
  {
   "cell_type": "code",
   "execution_count": 41,
   "metadata": {},
   "outputs": [],
   "source": [
    "import pandas as pd\n",
    "import numpy as np\n",
    "import json\n",
    "import scipy.io.wavfile as wav\n",
    "import numpy as np\n",
    "from scipy.fft import fft\n",
    "from scipy.fft import ifft\n",
    "import matplotlib.pyplot as plt\n",
    "import librosa\n",
    "\n",
    "from sklearn.cluster import SpectralClustering"
   ]
  },
  {
   "cell_type": "code",
   "execution_count": 7,
   "metadata": {},
   "outputs": [
    {
     "data": {
      "text/html": [
       "<div>\n",
       "<style scoped>\n",
       "    .dataframe tbody tr th:only-of-type {\n",
       "        vertical-align: middle;\n",
       "    }\n",
       "\n",
       "    .dataframe tbody tr th {\n",
       "        vertical-align: top;\n",
       "    }\n",
       "\n",
       "    .dataframe thead th {\n",
       "        text-align: right;\n",
       "    }\n",
       "</style>\n",
       "<table border=\"1\" class=\"dataframe\">\n",
       "  <thead>\n",
       "    <tr style=\"text-align: right;\">\n",
       "      <th></th>\n",
       "      <th>name</th>\n",
       "      <th>popularity</th>\n",
       "      <th>url</th>\n",
       "      <th>arr</th>\n",
       "      <th>sr</th>\n",
       "    </tr>\n",
       "  </thead>\n",
       "  <tbody>\n",
       "    <tr>\n",
       "      <th>0</th>\n",
       "      <td>New Jeans</td>\n",
       "      <td>85</td>\n",
       "      <td>https://p.scdn.co/mp3-preview/a37b4269b0dc5e95...</td>\n",
       "      <td>[-0.002433449, -0.0044915974, -0.004369557, -0...</td>\n",
       "      <td>22050</td>\n",
       "    </tr>\n",
       "    <tr>\n",
       "      <th>1</th>\n",
       "      <td>Super Shy</td>\n",
       "      <td>92</td>\n",
       "      <td>https://p.scdn.co/mp3-preview/dab062e2cc708a26...</td>\n",
       "      <td>[-0.0020927936, 0.006485328, -0.0045665354, -0...</td>\n",
       "      <td>22050</td>\n",
       "    </tr>\n",
       "    <tr>\n",
       "      <th>2</th>\n",
       "      <td>New Jeans</td>\n",
       "      <td>76</td>\n",
       "      <td>https://p.scdn.co/mp3-preview/a37b4269b0dc5e95...</td>\n",
       "      <td>[-0.002433449, -0.0044915974, -0.004369557, -0...</td>\n",
       "      <td>22050</td>\n",
       "    </tr>\n",
       "    <tr>\n",
       "      <th>3</th>\n",
       "      <td>ETA</td>\n",
       "      <td>87</td>\n",
       "      <td>https://p.scdn.co/mp3-preview/e076cd31805e449d...</td>\n",
       "      <td>[-0.0016327277, 0.0028921515, 0.0040700883, -0...</td>\n",
       "      <td>22050</td>\n",
       "    </tr>\n",
       "    <tr>\n",
       "      <th>4</th>\n",
       "      <td>Attention</td>\n",
       "      <td>81</td>\n",
       "      <td>https://p.scdn.co/mp3-preview/7794e6d9c9f2b8ce...</td>\n",
       "      <td>[0.0009280145, 0.005229354, 0.0032640994, 0.00...</td>\n",
       "      <td>22050</td>\n",
       "    </tr>\n",
       "    <tr>\n",
       "      <th>5</th>\n",
       "      <td>OMG</td>\n",
       "      <td>87</td>\n",
       "      <td>https://p.scdn.co/mp3-preview/b9e344aa96afc45a...</td>\n",
       "      <td>[0.0047766715, -0.0021011978, 0.0037831068, -0...</td>\n",
       "      <td>22050</td>\n",
       "    </tr>\n",
       "    <tr>\n",
       "      <th>6</th>\n",
       "      <td>Hype Boy</td>\n",
       "      <td>84</td>\n",
       "      <td>https://p.scdn.co/mp3-preview/7c55950057fc446d...</td>\n",
       "      <td>[0.0013099611, 0.0030141324, -0.0049063414, -0...</td>\n",
       "      <td>22050</td>\n",
       "    </tr>\n",
       "    <tr>\n",
       "      <th>7</th>\n",
       "      <td>New Jeans</td>\n",
       "      <td>25</td>\n",
       "      <td>https://p.scdn.co/mp3-preview/5e9dc087928b16b9...</td>\n",
       "      <td>[-0.00045173615, -0.0009777602, -0.0013395064,...</td>\n",
       "      <td>22050</td>\n",
       "    </tr>\n",
       "    <tr>\n",
       "      <th>8</th>\n",
       "      <td>Ditto</td>\n",
       "      <td>85</td>\n",
       "      <td>https://p.scdn.co/mp3-preview/4f048713ddfa4345...</td>\n",
       "      <td>[0.009391636, 0.0032518953, -0.0013424307, 0.0...</td>\n",
       "      <td>22050</td>\n",
       "    </tr>\n",
       "    <tr>\n",
       "      <th>9</th>\n",
       "      <td>Cool With You</td>\n",
       "      <td>85</td>\n",
       "      <td>https://p.scdn.co/mp3-preview/598e05a7fd20278a...</td>\n",
       "      <td>[0.005515009, 0.008472621, 0.0053211898, 0.004...</td>\n",
       "      <td>22050</td>\n",
       "    </tr>\n",
       "  </tbody>\n",
       "</table>\n",
       "</div>"
      ],
      "text/plain": [
       "            name  popularity  \\\n",
       "0      New Jeans          85   \n",
       "1      Super Shy          92   \n",
       "2      New Jeans          76   \n",
       "3            ETA          87   \n",
       "4      Attention          81   \n",
       "5            OMG          87   \n",
       "6       Hype Boy          84   \n",
       "7      New Jeans          25   \n",
       "8          Ditto          85   \n",
       "9  Cool With You          85   \n",
       "\n",
       "                                                 url  \\\n",
       "0  https://p.scdn.co/mp3-preview/a37b4269b0dc5e95...   \n",
       "1  https://p.scdn.co/mp3-preview/dab062e2cc708a26...   \n",
       "2  https://p.scdn.co/mp3-preview/a37b4269b0dc5e95...   \n",
       "3  https://p.scdn.co/mp3-preview/e076cd31805e449d...   \n",
       "4  https://p.scdn.co/mp3-preview/7794e6d9c9f2b8ce...   \n",
       "5  https://p.scdn.co/mp3-preview/b9e344aa96afc45a...   \n",
       "6  https://p.scdn.co/mp3-preview/7c55950057fc446d...   \n",
       "7  https://p.scdn.co/mp3-preview/5e9dc087928b16b9...   \n",
       "8  https://p.scdn.co/mp3-preview/4f048713ddfa4345...   \n",
       "9  https://p.scdn.co/mp3-preview/598e05a7fd20278a...   \n",
       "\n",
       "                                                 arr     sr  \n",
       "0  [-0.002433449, -0.0044915974, -0.004369557, -0...  22050  \n",
       "1  [-0.0020927936, 0.006485328, -0.0045665354, -0...  22050  \n",
       "2  [-0.002433449, -0.0044915974, -0.004369557, -0...  22050  \n",
       "3  [-0.0016327277, 0.0028921515, 0.0040700883, -0...  22050  \n",
       "4  [0.0009280145, 0.005229354, 0.0032640994, 0.00...  22050  \n",
       "5  [0.0047766715, -0.0021011978, 0.0037831068, -0...  22050  \n",
       "6  [0.0013099611, 0.0030141324, -0.0049063414, -0...  22050  \n",
       "7  [-0.00045173615, -0.0009777602, -0.0013395064,...  22050  \n",
       "8  [0.009391636, 0.0032518953, -0.0013424307, 0.0...  22050  \n",
       "9  [0.005515009, 0.008472621, 0.0053211898, 0.004...  22050  "
      ]
     },
     "execution_count": 7,
     "metadata": {},
     "output_type": "execute_result"
    }
   ],
   "source": [
    "my_data = pd.read_csv(\"data.csv\")\n",
    "my_data"
   ]
  },
  {
   "cell_type": "code",
   "execution_count": 21,
   "metadata": {},
   "outputs": [],
   "source": [
    "# Check if I can change array back into sound\n",
    "\n",
    "testArr = np.array(json.loads(my_data.arr[0]))\n",
    "testArr\n",
    "# Replace 'sound_array' with your actual sound array\n",
    "sample_rate = 22050  # Adjust this to match the sample rate of your audio\n",
    "wav.write(\"output.wav\", sample_rate, testArr)"
   ]
  },
  {
   "cell_type": "markdown",
   "metadata": {},
   "source": [
    "# Need to Decompose the Sound (Cocktail Party Problem)\n",
    "\n",
    "The main problem is deciding the form of array that we want to train the model on; some ideas are ICA, Fourier Decomposition, and training on raw data."
   ]
  },
  {
   "cell_type": "code",
   "execution_count": 26,
   "metadata": {},
   "outputs": [],
   "source": [
    "# try fft\n",
    "\n",
    "fft_result = fft(testArr)\n",
    "\n",
    "sample_rate = 22050  # Replace with the actual sample rate of your audio\n",
    "n = len(testArr)\n",
    "frequencies = np.fft.fftfreq(n, d=1.0/sample_rate)\n",
    "magnitude_spectrum = np.abs(fft_result)"
   ]
  },
  {
   "cell_type": "code",
   "execution_count": 24,
   "metadata": {},
   "outputs": [
    {
     "data": {
      "image/png": "[encoded data removed]",
      "text/plain": [
       "<Figure size 1000x600 with 1 Axes>"
      ]
     },
     "metadata": {},
     "output_type": "display_data"
    }
   ],
   "source": [
    "plt.figure(figsize=(10, 6))\n",
    "plt.plot(frequencies[:n//2], np.abs(fft_result[:n//2]))\n",
    "plt.xlabel('Frequency (Hz)')\n",
    "plt.ylabel('Amplitude')\n",
    "plt.title('Magnitude Spectrum')\n",
    "plt.grid()\n",
    "plt.show()"
   ]
  },
  {
   "cell_type": "code",
   "execution_count": 74,
   "metadata": {},
   "outputs": [],
   "source": [
    "# Assuming 'sound_array' is your audio data\n",
    "sample_rate = 22050\n",
    "start_frequency = 500  # Start frequency of the desired range in Hz 20-200, 500-4000, 200-500\n",
    "end_frequency = 4000  # End frequency of the desired range in Hz\n",
    "\n",
    "# Perform the FFT to transform the sound to the frequency domain\n",
    "sound_spectrum = fft(testArr)\n",
    "\n",
    "# Calculate the frequency axis corresponding to the FFT result\n",
    "frequencies = np.fft.fftfreq(len(testArr), d=1.0/sample_rate)\n",
    "\n",
    "# Find the indices that correspond to the frequency range\n",
    "start_index = int(start_frequency * len(testArr) / sample_rate)\n",
    "end_index = int(end_frequency * len(testArr) / sample_rate)\n",
    "\n",
    "# Create a new spectrum with only the frequency components within the desired range\n",
    "target_spectrum = np.zeros_like(sound_spectrum)\n",
    "target_spectrum[start_index:end_index] = sound_spectrum[start_index:end_index]\n",
    "\n",
    "# Perform the inverse FFT to get the sound with the desired frequency range\n",
    "extracted_sound = ifft(target_spectrum)\n",
    "\n",
    "# Convert the complex values to real values (take the real part)\n",
    "extracted_sound = np.real(extracted_sound)\n",
    "\n",
    "# If necessary, you can normalize the reconstructed sound\n",
    "extracted_sound = extracted_sound / np.max(np.abs(extracted_sound))\n",
    "wav.write(\"output_1.wav\", sample_rate, extracted_sound)"
   ]
  },
  {
   "cell_type": "markdown",
   "metadata": {},
   "source": [
    "# ICA"
   ]
  },
  {
   "cell_type": "code",
   "execution_count": 51,
   "metadata": {},
   "outputs": [
    {
     "name": "stderr",
     "output_type": "stream",
     "text": [
      "/Users/yiboliang/Projects/weTheArtist/venv/lib/python3.11/site-packages/sklearn/decomposition/_fastica.py:582: UserWarning: n_components is too large: it will be set to 1\n",
      "  warnings.warn(\n"
     ]
    }
   ],
   "source": [
    "import numpy as np\n",
    "from sklearn.decomposition import FastICA\n",
    "import soundfile as sf\n",
    "\n",
    "# Perform ICA to separate audio sources\n",
    "n_components = 2  # Number of components/sources to extract\n",
    "ica = FastICA(n_components=n_components)\n",
    "separated_sources = ica.fit_transform(testArr.reshape(-1, 1))\n",
    "\n",
    "# Save the separated sources as individual audio files\n",
    "for i, source in enumerate(separated_sources.T):\n",
    "    sf.write(f'separated_source_{i}.wav', source, 22050)"
   ]
  }
 ],
 "metadata": {
  "kernelspec": {
   "display_name": "Python 3.11.3 ('venv': venv)",
   "language": "python",
   "name": "python3"
  },
  "language_info": {
   "codemirror_mode": {
    "name": "ipython",
    "version": 3
   },
   "file_extension": ".py",
   "mimetype": "text/x-python",
   "name": "python",
   "nbconvert_exporter": "python",
   "pygments_lexer": "ipython3",
   "version": "3.11.3"
  },
  "orig_nbformat": 4,
  "vscode": {
   "interpreter": {
    "hash": "1a55cb0bb797ce67b4bd140e43dd2aae7212c68c00c2e05bbfac299316da487d"
   }
  }
 },
 "nbformat": 4,
 "nbformat_minor": 2
}
