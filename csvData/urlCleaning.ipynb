{
 "cells": [
  {
   "cell_type": "code",
   "execution_count": 16,
   "metadata": {},
   "outputs": [],
   "source": [
    "import pandas as pd\n",
    "import numpy as np"
   ]
  },
  {
   "cell_type": "code",
   "execution_count": 4,
   "metadata": {},
   "outputs": [
    {
     "data": {
      "text/html": [
       "<div>\n",
       "<style scoped>\n",
       "    .dataframe tbody tr th:only-of-type {\n",
       "        vertical-align: middle;\n",
       "    }\n",
       "\n",
       "    .dataframe tbody tr th {\n",
       "        vertical-align: top;\n",
       "    }\n",
       "\n",
       "    .dataframe thead th {\n",
       "        text-align: right;\n",
       "    }\n",
       "</style>\n",
       "<table border=\"1\" class=\"dataframe\">\n",
       "  <thead>\n",
       "    <tr style=\"text-align: right;\">\n",
       "      <th></th>\n",
       "      <th>name</th>\n",
       "      <th>popularity</th>\n",
       "      <th>url</th>\n",
       "    </tr>\n",
       "  </thead>\n",
       "  <tbody>\n",
       "    <tr>\n",
       "      <th>0</th>\n",
       "      <td>Birmingham (Anthem) (feat. Jaykae)</td>\n",
       "      <td>41</td>\n",
       "      <td>https://p.scdn.co/mp3-preview/f702b792702f1d61...</td>\n",
       "    </tr>\n",
       "    <tr>\n",
       "      <th>1</th>\n",
       "      <td>Office Hours (feat. 50 Cent)</td>\n",
       "      <td>55</td>\n",
       "      <td>https://p.scdn.co/mp3-preview/2dde28009d2238a5...</td>\n",
       "    </tr>\n",
       "    <tr>\n",
       "      <th>2</th>\n",
       "      <td>Hellcats &amp; Trackhawks</td>\n",
       "      <td>72</td>\n",
       "      <td>https://p.scdn.co/mp3-preview/c847743c0a0aabf4...</td>\n",
       "    </tr>\n",
       "    <tr>\n",
       "      <th>3</th>\n",
       "      <td>Joshua</td>\n",
       "      <td>40</td>\n",
       "      <td>https://p.scdn.co/mp3-preview/64e9aecf30292b2b...</td>\n",
       "    </tr>\n",
       "    <tr>\n",
       "      <th>4</th>\n",
       "      <td>Lake Shore Drive</td>\n",
       "      <td>66</td>\n",
       "      <td>https://p.scdn.co/mp3-preview/6613f85913f2794b...</td>\n",
       "    </tr>\n",
       "  </tbody>\n",
       "</table>\n",
       "</div>"
      ],
      "text/plain": [
       "                                 name  popularity  \\\n",
       "0  Birmingham (Anthem) (feat. Jaykae)          41   \n",
       "1        Office Hours (feat. 50 Cent)          55   \n",
       "2               Hellcats & Trackhawks          72   \n",
       "3                              Joshua          40   \n",
       "4                    Lake Shore Drive          66   \n",
       "\n",
       "                                                 url  \n",
       "0  https://p.scdn.co/mp3-preview/f702b792702f1d61...  \n",
       "1  https://p.scdn.co/mp3-preview/2dde28009d2238a5...  \n",
       "2  https://p.scdn.co/mp3-preview/c847743c0a0aabf4...  \n",
       "3  https://p.scdn.co/mp3-preview/64e9aecf30292b2b...  \n",
       "4  https://p.scdn.co/mp3-preview/6613f85913f2794b...  "
      ]
     },
     "execution_count": 4,
     "metadata": {},
     "output_type": "execute_result"
    }
   ],
   "source": [
    "# Importing the csv\n",
    "df = pd.read_csv(\"url.csv\")\n",
    "df.head()"
   ]
  },
  {
   "cell_type": "code",
   "execution_count": 9,
   "metadata": {},
   "outputs": [
    {
     "data": {
      "text/html": [
       "<div>\n",
       "<style scoped>\n",
       "    .dataframe tbody tr th:only-of-type {\n",
       "        vertical-align: middle;\n",
       "    }\n",
       "\n",
       "    .dataframe tbody tr th {\n",
       "        vertical-align: top;\n",
       "    }\n",
       "\n",
       "    .dataframe thead th {\n",
       "        text-align: right;\n",
       "    }\n",
       "</style>\n",
       "<table border=\"1\" class=\"dataframe\">\n",
       "  <thead>\n",
       "    <tr style=\"text-align: right;\">\n",
       "      <th></th>\n",
       "      <th>name</th>\n",
       "      <th>popularity</th>\n",
       "      <th>url</th>\n",
       "    </tr>\n",
       "  </thead>\n",
       "  <tbody>\n",
       "    <tr>\n",
       "      <th>0</th>\n",
       "      <td>Birmingham (Anthem) (feat. Jaykae)</td>\n",
       "      <td>41</td>\n",
       "      <td>https://p.scdn.co/mp3-preview/f702b792702f1d61...</td>\n",
       "    </tr>\n",
       "    <tr>\n",
       "      <th>1</th>\n",
       "      <td>Office Hours (feat. 50 Cent)</td>\n",
       "      <td>55</td>\n",
       "      <td>https://p.scdn.co/mp3-preview/2dde28009d2238a5...</td>\n",
       "    </tr>\n",
       "    <tr>\n",
       "      <th>2</th>\n",
       "      <td>Hellcats &amp; Trackhawks</td>\n",
       "      <td>72</td>\n",
       "      <td>https://p.scdn.co/mp3-preview/c847743c0a0aabf4...</td>\n",
       "    </tr>\n",
       "    <tr>\n",
       "      <th>3</th>\n",
       "      <td>Joshua</td>\n",
       "      <td>40</td>\n",
       "      <td>https://p.scdn.co/mp3-preview/64e9aecf30292b2b...</td>\n",
       "    </tr>\n",
       "    <tr>\n",
       "      <th>4</th>\n",
       "      <td>Lake Shore Drive</td>\n",
       "      <td>66</td>\n",
       "      <td>https://p.scdn.co/mp3-preview/6613f85913f2794b...</td>\n",
       "    </tr>\n",
       "  </tbody>\n",
       "</table>\n",
       "</div>"
      ],
      "text/plain": [
       "                                 name  popularity  \\\n",
       "0  Birmingham (Anthem) (feat. Jaykae)          41   \n",
       "1        Office Hours (feat. 50 Cent)          55   \n",
       "2               Hellcats & Trackhawks          72   \n",
       "3                              Joshua          40   \n",
       "4                    Lake Shore Drive          66   \n",
       "\n",
       "                                                 url  \n",
       "0  https://p.scdn.co/mp3-preview/f702b792702f1d61...  \n",
       "1  https://p.scdn.co/mp3-preview/2dde28009d2238a5...  \n",
       "2  https://p.scdn.co/mp3-preview/c847743c0a0aabf4...  \n",
       "3  https://p.scdn.co/mp3-preview/64e9aecf30292b2b...  \n",
       "4  https://p.scdn.co/mp3-preview/6613f85913f2794b...  "
      ]
     },
     "execution_count": 9,
     "metadata": {},
     "output_type": "execute_result"
    }
   ],
   "source": [
    "# Removing all of the rows with NULL url\n",
    "df_clean = df[df[\"url\"].notnull()]\n",
    "df_clean.head()"
   ]
  },
  {
   "cell_type": "code",
   "execution_count": 17,
   "metadata": {},
   "outputs": [
    {
     "data": {
      "text/plain": [
       "(array([], dtype=int64), array([], dtype=int64))"
      ]
     },
     "execution_count": 17,
     "metadata": {},
     "output_type": "execute_result"
    }
   ],
   "source": [
    "# Check to make sure there are no NULL cells in the df_clean\n",
    "np.where(df_clean.isnull())\n",
    "df_final = df_clean.drop_duplicates()"
   ]
  },
  {
   "cell_type": "code",
   "execution_count": 18,
   "metadata": {},
   "outputs": [],
   "source": [
    "df_final.to_csv('cleanUrl.csv', index=False)"
   ]
  },
  {
   "cell_type": "code",
   "execution_count": null,
   "metadata": {},
   "outputs": [],
   "source": []
  }
 ],
 "metadata": {
  "kernelspec": {
   "display_name": "Python 3.11.3 ('venv': venv)",
   "language": "python",
   "name": "python3"
  },
  "language_info": {
   "codemirror_mode": {
    "name": "ipython",
    "version": 3
   },
   "file_extension": ".py",
   "mimetype": "text/x-python",
   "name": "python",
   "nbconvert_exporter": "python",
   "pygments_lexer": "ipython3",
   "version": "3.11.3"
  },
  "vscode": {
   "interpreter": {
    "hash": "1a55cb0bb797ce67b4bd140e43dd2aae7212c68c00c2e05bbfac299316da487d"
   }
  }
 },
 "nbformat": 4,
 "nbformat_minor": 2
}
