{
 "cells": [
  {
   "cell_type": "markdown",
   "metadata": {},
   "source": [
    "# Converting the wav files from rawWav into numerical array"
   ]
  },
  {
   "cell_type": "markdown",
   "metadata": {},
   "source": [
    "Create the dataframe containing the wav numerical data"
   ]
  },
  {
   "cell_type": "code",
   "execution_count": null,
   "metadata": {},
   "outputs": [],
   "source": [
    "from spFunctions import download_wav, search\n",
    "import numpy as np\n",
    "import pandas as pd\n",
    "import csv\n",
    "import os\n",
    "import librosa\n",
    "\n",
    "def wavToArr(wav_file_path):\n",
    "    y, sr = librosa.load(wav_file_path)\n",
    "    return y, sr"
   ]
  },
  {
   "cell_type": "code",
   "execution_count": null,
   "metadata": {},
   "outputs": [],
   "source": [
    "wavPath = os.path.join(os.getcwd(), \"wavData\")\n",
    "\n",
    "for filename in os.listdir(wavPath):\n",
    "    file_path = os.path.join(wavPath, filename)\n",
    "           \n",
    "    # Check if the path is a file\n",
    "    if os.path.isfile(file_path):\n",
    "    # Delete the file\n",
    "        os.remove(file_path)"
   ]
  }
 ],
 "metadata": {
  "kernelspec": {
   "display_name": "Python 3.11.3 ('venv': venv)",
   "language": "python",
   "name": "python3"
  },
  "language_info": {
   "name": "python",
   "version": "3.11.3"
  },
  "orig_nbformat": 4,
  "vscode": {
   "interpreter": {
    "hash": "1a55cb0bb797ce67b4bd140e43dd2aae7212c68c00c2e05bbfac299316da487d"
   }
  }
 },
 "nbformat": 4,
 "nbformat_minor": 2
}
